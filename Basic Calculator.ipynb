{
 "cells": [
  {
   "cell_type": "markdown",
   "id": "7afc66c2",
   "metadata": {},
   "source": [
    "# Basic Calculator\n",
    "### 14th Oct 2022\n",
    "### Team 9:  Banduka Yoshan Jayasundara, Mao Mao, Charity Kabutbei\n",
    "### Description: \n",
    "The project is a calculator that allows users to execute basic arithmetic calculation, Users can run it over and over again until they choose to quit.\n",
    "\n",
    "Link to Github: https://github.com/Banduka/Group-Project.git"
   ]
  },
  {
   "cell_type": "markdown",
   "id": "e7a8c0c6",
   "metadata": {},
   "source": [
    "## Final Project"
   ]
  },
  {
   "cell_type": "code",
   "execution_count": 1,
   "id": "543c3e32",
   "metadata": {
    "scrolled": true
   },
   "outputs": [
    {
     "name": "stdout",
     "output_type": "stream",
     "text": [
      "Select operation.\n",
      "1.Add\n",
      "2.Subtract\n",
      "3.Multiply\n",
      "4.Divide\n",
      "5.Second_Power\n",
      "6.Squar_root\n",
      "Enter choice(1/2/3/4/5/6): 6\n",
      "Enter the number: 7\n",
      "7.0 ** 0.5 = 2.6457513110645907\n",
      "Let's do next calculation? (yes/no): n\n",
      "Enter choice(1/2/3/4/5/6): 6\n",
      "Enter the number: 7\n",
      "7.0 ** 0.5 = 2.6457513110645907\n",
      "Let's do next calculation? (yes/no): no\n"
     ]
    }
   ],
   "source": [
    "# adds two numbers\n",
    "def add(x, y):\n",
    "    return x + y\n",
    "\n",
    "# subtracts two numbers\n",
    "def subtract(x, y):\n",
    "    return x - y\n",
    "\n",
    "# multiplies two numbers\n",
    "def multiply(x, y):\n",
    "    return x * y\n",
    "\n",
    "# divides two numbers\n",
    "def divide(x, y):\n",
    "    return x / y\n",
    "\n",
    "# Second Power\n",
    "def second_power(x):\n",
    "    return x**2\n",
    "\n",
    "# Square root\n",
    "def squar_root(x):\n",
    "    return x**0.5\n",
    "\n",
    "print(\"Select operation.\")\n",
    "print(\"1.Add\")\n",
    "print(\"2.Subtract\")\n",
    "print(\"3.Multiply\")\n",
    "print(\"4.Divide\")\n",
    "print(\"5.Second_Power\")\n",
    "print(\"6.Squar_root\")\n",
    "\n",
    "\n",
    "while True:\n",
    "    # take input from the user\n",
    "    choice = input(\"Enter choice(1/2/3/4/5/6): \")\n",
    "\n",
    "    # check if choice is one of the four options\n",
    "    if choice in ('1', '2', '3', '4'):\n",
    "        num1 = float(input(\"Enter first number: \"))\n",
    "        num2 = float(input(\"Enter second number: \"))\n",
    "\n",
    "        if choice == '1':\n",
    "            print(num1, \"+\", num2, \"=\", add(num1, num2))\n",
    "\n",
    "        elif choice == '2':\n",
    "            print(num1, \"-\", num2, \"=\", subtract(num1, num2))\n",
    "\n",
    "        elif choice == '3':\n",
    "            print(num1, \"*\", num2, \"=\", multiply(num1, num2))\n",
    "        \n",
    "        elif choice == '4':\n",
    "            print(num1, \"/\", num2, \"=\", divide(num1, num2))\n",
    "            \n",
    "            # check if user wants another calculation\n",
    "        # break the while loop if answer is no\n",
    "        next_calculation = input(\"Let's do next calculation? (yes/no): \")\n",
    "        if next_calculation == \"no\":\n",
    "          break\n",
    "       \n",
    "    # check if choice is one of the another two options \n",
    "    if choice in ('5', '6'):\n",
    "        num1 = float(input(\"Enter the number: \"))\n",
    "            \n",
    "        if choice == '5':\n",
    "            print(num1, \"**\", \"2\", \"=\", ((num1)**2))\n",
    "            \n",
    "        elif choice == '6':\n",
    "            print(num1, \"**\", \"0.5\", \"=\", (num1**(0.5)))\n",
    "\n",
    "            # check if user wants another calculation\n",
    "        # break the while loop if answer is no\n",
    "        next_calculation = input(\"Let's do next calculation? (yes/no): \")\n",
    "        if next_calculation == \"no\":\n",
    "          break\n",
    "    \n",
    "    else:\n",
    "        print(\"Invalid Input\")"
   ]
  }
 ],
 "metadata": {
  "kernelspec": {
   "display_name": "Python 3 (ipykernel)",
   "language": "python",
   "name": "python3"
  },
  "language_info": {
   "codemirror_mode": {
    "name": "ipython",
    "version": 3
   },
   "file_extension": ".py",
   "mimetype": "text/x-python",
   "name": "python",
   "nbconvert_exporter": "python",
   "pygments_lexer": "ipython3",
   "version": "3.9.12"
  }
 },
 "nbformat": 4,
 "nbformat_minor": 5
}
